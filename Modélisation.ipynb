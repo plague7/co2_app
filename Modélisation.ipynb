{
 "cells": [
  {
   "cell_type": "markdown",
   "metadata": {},
   "source": [
    "D'après une étude VIF, il faudrait supprimer les colonnes ZipCode, Latitude, Longitude"
   ]
  },
  {
   "cell_type": "code",
   "execution_count": 1,
   "metadata": {},
   "outputs": [],
   "source": [
    "import pandas as pd\n",
    "import seaborn as sns\n",
    "import missingno as msno\n",
    "import matplotlib.pyplot as plt\n",
    "import numpy as np\n",
    "from datetime import datetime\n",
    "\n",
    "from sklearn.impute import KNNImputer\n",
    "from sklearn.preprocessing import StandardScaler\n",
    "from sklearn.preprocessing import RobustScaler\n",
    "from sklearn.preprocessing import MinMaxScaler\n",
    "from sklearn.preprocessing import OneHotEncoder\n",
    "\n",
    "from sklearn import model_selection"
   ]
  },
  {
   "cell_type": "markdown",
   "metadata": {},
   "source": [
    "# Preprocessing"
   ]
  },
  {
   "cell_type": "code",
   "execution_count": 2,
   "metadata": {},
   "outputs": [],
   "source": [
    "df = pd.read_csv(\"data_cleaned.csv\")\n",
    "df.drop(['ZipCode','Latitude', 'Longitude'], axis=1, inplace=True)"
   ]
  },
  {
   "cell_type": "code",
   "execution_count": 3,
   "metadata": {},
   "outputs": [],
   "source": [
    "X = df.drop('TotalGHGEmissions', axis=1)\n",
    "y = df['TotalGHGEmissions']"
   ]
  },
  {
   "cell_type": "code",
   "execution_count": 4,
   "metadata": {},
   "outputs": [],
   "source": [
    "X_train, X_test, Y_train, Y_test = model_selection.train_test_split(X, y,test_size=0.3)"
   ]
  },
  {
   "cell_type": "code",
   "execution_count": 5,
   "metadata": {},
   "outputs": [],
   "source": [
    "imputer = KNNImputer(n_neighbors=5)\n",
    "imputer = imputer.fit(X_train[[\"ENERGYSTARScore\"]])\n",
    "X_train[[\"ENERGYSTARScore\"]] = imputer.transform(X_train[[\"ENERGYSTARScore\"]])\n",
    "X_test[[\"ENERGYSTARScore\"]] = imputer.transform(X_test[[\"ENERGYSTARScore\"]])"
   ]
  },
  {
   "cell_type": "code",
   "execution_count": 6,
   "metadata": {},
   "outputs": [],
   "source": [
    "# MinMaxScaler\n",
    "rs = MinMaxScaler()\n",
    "rs = rs.fit(X_train[['CouncilDistrictCode', 'NumberofFloors', 'PropertyGFATotal', 'PropertyGFAParking', 'ENERGYSTARScore', 'SteamUse(kBtu)', 'BuildingAge']])\n",
    "X_train[['CouncilDistrictCode', 'NumberofFloors', 'PropertyGFATotal', 'PropertyGFAParking', 'ENERGYSTARScore', 'SteamUse(kBtu)', 'BuildingAge']] = rs.transform(X_train[['CouncilDistrictCode', 'NumberofFloors', 'PropertyGFATotal', 'PropertyGFAParking', 'ENERGYSTARScore', 'SteamUse(kBtu)', 'BuildingAge']])\n",
    "X_test[['CouncilDistrictCode', 'NumberofFloors', 'PropertyGFATotal', 'PropertyGFAParking', 'ENERGYSTARScore', 'SteamUse(kBtu)', 'BuildingAge']] = rs.transform(X_test[['CouncilDistrictCode', 'NumberofFloors', 'PropertyGFATotal', 'PropertyGFAParking', 'ENERGYSTARScore', 'SteamUse(kBtu)', 'BuildingAge']])"
   ]
  },
  {
   "cell_type": "code",
   "execution_count": null,
   "metadata": {},
   "outputs": [],
   "source": [
    "# OneHotEncoder\n",
    "ohe = OneHotEncoder(sparse=False)\n",
    "OH_cols_train = pd.DataFrame(ohe.fit_transform(X_train[['BuildingType', 'PrimaryPropertyType', 'Neighborhood']]), columns=ohe.get_feature_names())\n",
    "OH_cols_test = pd.DataFrame(ohe.transform(X_test[['BuildingType', 'PrimaryPropertyType', 'Neighborhood']]), columns=ohe.get_feature_names())\n",
    "\n",
    "# One-hot encoding removed index; put it back\n",
    "OH_cols_train.index = X_train.index\n",
    "OH_cols_test.index = X_test.index\n",
    "\n",
    "\n",
    "num_trainset = X_train.drop(columns={'BuildingType', 'PrimaryPropertyType', 'Neighborhood'}, axis = 1)\n",
    "num_testset = X_test.drop(columns={'BuildingType', 'PrimaryPropertyType', 'Neighborhood'}, axis = 1)\n",
    "\n",
    "# Add one-hot encoded columns to numerical features\n",
    "OH_trainset = pd.concat([num_trainset, OH_cols_train], axis=1)\n",
    "OH_testset = pd.concat([num_testset, OH_cols_test], axis=1)\n",
    "\n",
    "X_train = OH_trainset\n",
    "X_test = OH_testset"
   ]
  },
  {
   "cell_type": "markdown",
   "metadata": {},
   "source": [
    "# Modélisation"
   ]
  }
 ],
 "metadata": {
  "interpreter": {
   "hash": "1d63f421d0b44b8fbe361afa7f3185a3bd9135445dc52a58b64c3a5880331a42"
  },
  "kernelspec": {
   "display_name": "Python 3.8.8 ('base')",
   "language": "python",
   "name": "python3"
  },
  "language_info": {
   "codemirror_mode": {
    "name": "ipython",
    "version": 3
   },
   "file_extension": ".py",
   "mimetype": "text/x-python",
   "name": "python",
   "nbconvert_exporter": "python",
   "pygments_lexer": "ipython3",
   "version": "3.8.8"
  },
  "orig_nbformat": 4
 },
 "nbformat": 4,
 "nbformat_minor": 2
}
