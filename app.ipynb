{
 "cells": [
  {
   "cell_type": "code",
   "execution_count": 15,
   "metadata": {},
   "outputs": [],
   "source": [
    "# Manip data\n",
    "import pandas as pd\n",
    "\n",
    "# SKLEARN\n",
    "from sklearn.linear_model import LinearRegression\n",
    "from sklearn.preprocessing import MinMaxScaler\n",
    "\n",
    "import os\n",
    "import pickle\n",
    "\n",
    "import streamlit as st"
   ]
  },
  {
   "cell_type": "code",
   "execution_count": 2,
   "metadata": {},
   "outputs": [],
   "source": [
    "def load_data():\n",
    "    csv = os.path.join(os.path.dirname('__file__'), 'data/2016_Building_Energy_Benchmarking.csv')\n",
    "    df = pd.read_csv(csv)\n",
    "    return df"
   ]
  },
  {
   "cell_type": "code",
   "execution_count": 3,
   "metadata": {},
   "outputs": [],
   "source": [
    "def load_model():\n",
    "    lr = os.path.join(os.path.dirname('__file__'), 'baseline_lr_model.sav')\n",
    "    with open(lr , 'rb') as handle:\n",
    "        lr_baseline = pickle.load(handle)\n",
    "    return lr_baseline"
   ]
  },
  {
   "cell_type": "code",
   "execution_count": 8,
   "metadata": {},
   "outputs": [],
   "source": [
    "def preprocessing(df):\n",
    "    # Drop colonnes useless à 1ere vue\n",
    "    df_dummy = df.drop([\"BuildingType\",\"PrimaryPropertyType\",\"LargestPropertyUseType\",\"ListOfAllPropertyUseTypes\",\"TaxParcelIdentificationNumber\",\"Neighborhood\",\"OSEBuildingID\", \"DataYear\", \"PropertyName\", \"Address\", \"City\", \"State\", \"ZipCode\", \"Outlier\",\"ComplianceStatus\", \"Comments\", \"DefaultData\", \"YearsENERGYSTARCertified\", 'ThirdLargestPropertyUseType', 'ThirdLargestPropertyUseTypeGFA', 'SecondLargestPropertyUseType', 'SecondLargestPropertyUseTypeGFA', \"GHGEmissionsIntensity\", \"TotalGHGEmissions\", 'SiteEUIWN(kBtu/sf)', 'SourceEUI(kBtu/sf)', 'SourceEUIWN(kBtu/sf)', 'Electricity(kWh)', 'Electricity(kBtu)'], axis = 1 )\n",
    "\n",
    "    # Remplacer par moyenne\n",
    "    df_dummy[\"ENERGYSTARScore\"] = round(df_dummy['ENERGYSTARScore'].fillna(df_dummy['ENERGYSTARScore'].mean()))\n",
    "\n",
    "    # Dropna restant\n",
    "    df_dummy.dropna(axis=0, inplace = True)\n",
    "    df_dummy.reset_index(drop=True, inplace=True)\n",
    "\n",
    "    return df_dummy"
   ]
  },
  {
   "cell_type": "code",
   "execution_count": 9,
   "metadata": {},
   "outputs": [],
   "source": [
    "df = load_data()\n",
    "df = preprocessing(df)\n",
    "model = load_model()\n",
    "y_pred = model.predict(df)"
   ]
  },
  {
   "cell_type": "code",
   "execution_count": 10,
   "metadata": {},
   "outputs": [],
   "source": [
    "### Header ###\n",
    "st.title('CO2 Prediction App')"
   ]
  },
  {
   "cell_type": "code",
   "execution_count": 12,
   "metadata": {},
   "outputs": [],
   "source": [
    "st.write(y_pred)"
   ]
  }
 ],
 "metadata": {
  "interpreter": {
   "hash": "a37869d91db9e4f8707847499683064f3c910b4697ac3b710908f94f17b4a718"
  },
  "kernelspec": {
   "display_name": "Python 3.9.13 64-bit (windows store)",
   "language": "python",
   "name": "python3"
  },
  "language_info": {
   "codemirror_mode": {
    "name": "ipython",
    "version": 3
   },
   "file_extension": ".py",
   "mimetype": "text/x-python",
   "name": "python",
   "nbconvert_exporter": "python",
   "pygments_lexer": "ipython3",
   "version": "3.9.13"
  },
  "orig_nbformat": 4
 },
 "nbformat": 4,
 "nbformat_minor": 2
}
